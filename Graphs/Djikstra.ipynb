{
 "cells": [
  {
   "cell_type": "markdown",
   "metadata": {},
   "source": [
    "function Dijkstra(Graph, source)\n",
    " \n",
    "    dist[source] = 0    // Initialization\n",
    "    create vertex set Q\n",
    " \n",
    "    for each vertex v in Graph\n",
    "    {\n",
    "        if v != source\n",
    "        {\n",
    "            dist[v] = INFINITY        // Unknown distance from source to v\n",
    "            prev[v] = UNDEFINED       // Predecessor of v\n",
    "        }\n",
    "        Q.add_with_priority(v, dist[v])\n",
    "    }\n",
    "    while Q is not empty\n",
    "    {\n",
    "        u = Q.extract_min()           // Remove minimum\n",
    "        for each neighbor v of u that is still in Q\n",
    "        {\n",
    "            alt = dist[u] + length(u, v)\n",
    "            if alt < dist[v]\n",
    "            {\n",
    "                dist[v] = alt\n",
    "                prev[v] = u\n",
    "                Q.decrease_priority(v, alt)\n",
    "            }\n",
    "        }\n",
    "    }\n",
    "    return dist[], prev[]"
   ]
  },
  {
   "cell_type": "code",
   "execution_count": null,
   "metadata": {
    "vscode": {
     "languageId": "plaintext"
    }
   },
   "outputs": [],
   "source": [
    "!pip install nbimporter"
   ]
  },
  {
   "cell_type": "code",
   "execution_count": null,
   "metadata": {
    "vscode": {
     "languageId": "plaintext"
    }
   },
   "outputs": [],
   "source": [
    "import nbimporter\n",
    "from Graph import Graph\n",
    "from math import inf"
   ]
  },
  {
   "cell_type": "code",
   "execution_count": null,
   "metadata": {
    "vscode": {
     "languageId": "plaintext"
    }
   },
   "outputs": [],
   "source": [
    "class PriorityQueue:\n",
    "    def __init__(self):\n",
    "        self.register = []\n",
    "\n",
    "    def add_with_priority(self, value: str, priority: int):\n",
    "        self.register.append((value, priority))\n",
    "        sort_with_priority()\n",
    "\n",
    "    def change_priority(self, value: str, priority: int):\n",
    "        for item in self.register:\n",
    "            if item.value == value:\n",
    "                item.priority = priority\n",
    "        sort_with_priority()\n",
    "\n",
    "    def sort_with_priority(self):\n",
    "        self.register.sort(key=lambda item: item.priority, reverse=true)\n",
    "\n",
    "    def extract_max_priority(self):\n",
    "        return self.register.pop(0)\n",
    "    \n",
    "    def extract_min_priority(self):\n",
    "        return self.register.pop()\n",
    "\n",
    "    def isEmpty(self):\n",
    "        return self.register == []"
   ]
  },
  {
   "cell_type": "code",
   "execution_count": null,
   "metadata": {
    "vscode": {
     "languageId": "plaintext"
    }
   },
   "outputs": [],
   "source": [
    "def Djikstra(graph: Graph, source: str):\n",
    "    dist, prev, Q = dict(), dict(), PriorityQueue()\n",
    "    dist[source] = 0\n",
    "\n",
    "    for vertex in graph.vertices:\n",
    "        if vertex.name != source:\n",
    "            dist[vertex.name] = inf\n",
    "            prev[vertex.name] = None\n",
    "        Q.add_with_priority(vertex.name, dist[vertex.name])\n",
    "\n",
    "    while not Q.isEmpty():\n",
    "        u = Q.extract_min_priority()\n",
    "            "
   ]
  }
 ],
 "metadata": {
  "interpreter": {
   "hash": "7e199ba1cb85acf5efbb82064dcf0c255ecc05bc1fd3896190b852e4083b2abb"
  },
  "kernelspec": {
   "display_name": "Python 3.10.4 64-bit (windows store)",
   "language": "python",
   "name": "python3"
  },
  "language_info": {
   "codemirror_mode": {
    "name": "ipython",
    "version": 3
   },
   "file_extension": ".py",
   "mimetype": "text/x-python",
   "name": "python",
   "nbconvert_exporter": "python",
   "pygments_lexer": "ipython3",
   "version": "3.10.4"
  },
  "orig_nbformat": 4
 },
 "nbformat": 4,
 "nbformat_minor": 2
}
