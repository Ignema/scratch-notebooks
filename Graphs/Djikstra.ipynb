{
 "cells": [
  {
   "cell_type": "code",
   "execution_count": 1,
   "metadata": {},
   "outputs": [
    {
     "name": "stdout",
     "output_type": "stream",
     "text": [
      "Requirement already satisfied: nbimporter in /home/gitpod/.pyenv/versions/3.8.13/lib/python3.8/site-packages (0.3.4)\n",
      "\u001b[33mWARNING: You are using pip version 22.0.4; however, version 22.1 is available.\n",
      "You should consider upgrading via the '/home/gitpod/.pyenv/versions/3.8.13/bin/python3.8 -m pip install --upgrade pip' command.\u001b[0m\u001b[33m\n",
      "\u001b[0m"
     ]
    }
   ],
   "source": [
    "!pip install nbimporter"
   ]
  },
  {
   "cell_type": "code",
   "execution_count": 2,
   "metadata": {},
   "outputs": [],
   "source": [
    "import nbimporter\n",
    "from Graph import Graph, Vertex\n",
    "from math import inf"
   ]
  },
  {
   "cell_type": "code",
   "execution_count": 3,
   "metadata": {},
   "outputs": [],
   "source": [
    "class PriorityQueue:\n",
    "    def __init__(self):\n",
    "        self.register = []\n",
    "\n",
    "    def add_with_priority(self, value: str, priority: int):\n",
    "        self.register.append([value, priority])\n",
    "        self.sort_with_priority()\n",
    "\n",
    "    def change_priority(self, value: str, priority: int):\n",
    "        for item in self.register:\n",
    "            if item[0] == value:\n",
    "                item[1] = priority\n",
    "        self.sort_with_priority()\n",
    "\n",
    "    def sort_with_priority(self):\n",
    "        self.register.sort(key=lambda item: item[1], reverse=True)\n",
    "\n",
    "    def extract_max_priority(self):\n",
    "        return self.register.pop(0)\n",
    "    \n",
    "    def extract_min_priority(self):\n",
    "        return self.register.pop()\n",
    "\n",
    "    def contains(self, vertex: str):\n",
    "        return vertex in [item[0] for item in self.register]\n",
    "\n",
    "    def isEmpty(self):\n",
    "        return self.register == []"
   ]
  },
  {
   "cell_type": "code",
   "execution_count": 4,
   "metadata": {},
   "outputs": [],
   "source": [
    "def Djikstra(graph: Graph, source: str):\n",
    "    dist, prev, Q = dict(), dict(), PriorityQueue()\n",
    "    dist[source] = 0\n",
    "\n",
    "    for vertex in graph.vertices:\n",
    "        if vertex.name != source:\n",
    "            dist[vertex.name] = inf\n",
    "            prev[vertex.name] = None\n",
    "        Q.add_with_priority(vertex.name, dist[vertex.name])\n",
    "\n",
    "    while not Q.isEmpty():\n",
    "        u = Q.extract_min_priority()[0]\n",
    "        for v in [edge.target for edge in graph.get_vertex(u).next if Q.contains(edge.target)]:\n",
    "            alt = dist[u] + graph.get_weight(u, v)\n",
    "            if alt < dist[v]:\n",
    "              dist[v] = alt\n",
    "              prev[v] = u\n",
    "              Q.change_priority(v, alt)\n",
    "    return dist, prev"
   ]
  },
  {
   "cell_type": "code",
   "execution_count": 5,
   "metadata": {},
   "outputs": [
    {
     "name": "stdout",
     "output_type": "stream",
     "text": [
      "({'A': 0, 'B': 1, 'C': 1, 'D': 2, 'E': 3}, {'B': 'A', 'C': 'A', 'D': 'B', 'E': 'D'})\n"
     ]
    }
   ],
   "source": [
    "graph = Graph()\n",
    "\n",
    "graph.add_vertices([Vertex('A'), Vertex('B'), Vertex('C'), Vertex('D'), Vertex('E')])\n",
    "graph.add_edges([('A', 'B', 1), ('A', 'C', 1), ('B', 'C', 1), ('B', 'D', 1), ('C', 'D', 1), ('D', 'E', 1)])\n",
    "\n",
    "print(Djikstra(graph, 'A'))"
   ]
  }
 ],
 "metadata": {
  "kernelspec": {
   "display_name": "Python 3.8.13 64-bit ('3.8.13')",
   "language": "python",
   "name": "python3"
  },
  "language_info": {
   "codemirror_mode": {
    "name": "ipython",
    "version": 3
   },
   "file_extension": ".py",
   "mimetype": "text/x-python",
   "name": "python",
   "nbconvert_exporter": "python",
   "pygments_lexer": "ipython3",
   "version": "3.8.13"
  },
  "orig_nbformat": 4,
  "vscode": {
   "interpreter": {
    "hash": "110cc1dee26208153f2972f08a2ad52b6a56238dc66d48e87fb757ef2996db56"
   }
  }
 },
 "nbformat": 4,
 "nbformat_minor": 2
}
