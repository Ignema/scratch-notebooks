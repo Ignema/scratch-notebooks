{
 "cells": [
  {
   "cell_type": "code",
   "execution_count": 1,
   "metadata": {},
   "outputs": [
    {
     "name": "stdout",
     "output_type": "stream",
     "text": [
      "Collecting numpy\n",
      "  Downloading numpy-1.22.3-cp38-cp38-manylinux_2_17_x86_64.manylinux2014_x86_64.whl (16.8 MB)\n",
      "\u001b[2K     \u001b[90m━━━━━━━━━━━━━━━━━━━━━━━━━━━━━━━━━━━━━━━\u001b[0m \u001b[32m16.8/16.8 MB\u001b[0m \u001b[31m120.1 MB/s\u001b[0m eta \u001b[36m0:00:00\u001b[0m00:01\u001b[0m00:01\u001b[0m\n",
      "\u001b[?25hInstalling collected packages: numpy\n",
      "Successfully installed numpy-1.22.3\n",
      "\u001b[33mWARNING: You are using pip version 22.0.4; however, version 22.1 is available.\n",
      "You should consider upgrading via the '/home/gitpod/.pyenv/versions/3.8.13/bin/python3.8 -m pip install --upgrade pip' command.\u001b[0m\u001b[33m\n",
      "\u001b[0m"
     ]
    }
   ],
   "source": [
    "!pip install numpy"
   ]
  },
  {
   "cell_type": "code",
   "execution_count": 2,
   "metadata": {},
   "outputs": [],
   "source": [
    "from numpy import matrix\n",
    "from typing import List, Tuple"
   ]
  },
  {
   "cell_type": "code",
   "execution_count": 3,
   "metadata": {},
   "outputs": [],
   "source": [
    "class Edge:\n",
    "    def __init__(self, origin, target, weight):\n",
    "        self.origin = origin\n",
    "        self.target = target\n",
    "        self.weight = weight\n",
    "    \n",
    "    def __repr__(self):\n",
    "        return f\"Edge(origin={self.origin}, target={self.target}, weight={self.weight})\""
   ]
  },
  {
   "cell_type": "code",
   "execution_count": 4,
   "metadata": {},
   "outputs": [],
   "source": [
    "class Vertex:\n",
    "    def __init__(self, name: str, next: List[Edge] = None):\n",
    "        self.name = name\n",
    "        self.next = next if next else []\n",
    "\n",
    "    def __repr__(self):\n",
    "        return f\"Vertex(name={self.name}, next={self.next})\""
   ]
  },
  {
   "cell_type": "code",
   "execution_count": 5,
   "metadata": {},
   "outputs": [],
   "source": [
    "class Graph:\n",
    "    def __init__(self, vertices: List[Vertex] = None):\n",
    "        self.vertices = vertices if vertices else []\n",
    "\n",
    "    def add_vertex(self, vertex: Vertex):\n",
    "        self.vertices.append(vertex)\n",
    "\n",
    "    def add_vertices(self, vertices: List[Vertex]):\n",
    "        for vertex in vertices:\n",
    "            self.add_vertex(vertex)\n",
    "\n",
    "    def get_vertex(self, name: str):\n",
    "        for vertex in self.vertices:\n",
    "            if vertex.name == name:\n",
    "                return vertex\n",
    "        return\n",
    "\n",
    "    def add_edge(self, edge: Tuple[str, str, int]):\n",
    "        self.get_vertex(edge[0]).next.append(Edge(*edge))\n",
    "\n",
    "    def add_edges(self, edges: List[Tuple[str, str, int]]):\n",
    "        for edge in edges:\n",
    "            self.add_edge(edge)\n",
    "\n",
    "    def get_edges(self):\n",
    "      return [edge for vertex in self.vertices for edge in vertex.next]\n",
    "\n",
    "    def get_weight(self, origin, target):\n",
    "      for edge in self.get_edges():\n",
    "        if edge.origin == origin and edge.target == target:\n",
    "          return edge.weight\n",
    "      return 0\n",
    "\n",
    "    def get_adjacency_list(self):\n",
    "        adjacency_list = {}\n",
    "        for vertex in self.vertices:\n",
    "            adjacency_list[vertex.name] = [(edge.target,edge.weight) for edge in vertex.next]\n",
    "        return adjacency_list\n",
    "\n",
    "    def get_adjacency_matrix(self):\n",
    "        adjacency_matrix = []\n",
    "        for vertex in self.vertices:\n",
    "            adjacency_matrix.append([0] * len(self.vertices))\n",
    "        for i, vertex in enumerate(self.vertices):\n",
    "            for edge in vertex.next:\n",
    "                adjacency_matrix[i][self.vertices.index(self.get_vertex(edge.target))] = edge.weight\n",
    "        return adjacency_matrix\n",
    "\n",
    "    def __repr__(self):\n",
    "        return f\"Graph(vertices={self.vertices})\""
   ]
  },
  {
   "cell_type": "code",
   "execution_count": 6,
   "metadata": {},
   "outputs": [
    {
     "name": "stdout",
     "output_type": "stream",
     "text": [
      "{'A': [('B', 1), ('C', 1)], 'B': [('C', 1), ('D', 1)], 'C': [('D', 1)], 'D': [('E', 1)], 'E': []}\n",
      "\n",
      "[[0 1 1 0 0]\n",
      " [0 0 1 1 0]\n",
      " [0 0 0 1 0]\n",
      " [0 0 0 0 1]\n",
      " [0 0 0 0 0]]\n"
     ]
    }
   ],
   "source": [
    "graph = Graph()\n",
    "\n",
    "graph.add_vertices([Vertex('A'), Vertex('B'), Vertex('C'), Vertex('D'), Vertex('E')])\n",
    "graph.add_edges([('A', 'B', 1), ('A', 'C', 1), ('B', 'C', 1), ('B', 'D', 1), ('C', 'D', 1), ('D', 'E', 1)])\n",
    "\n",
    "print(graph.get_adjacency_list())\n",
    "print()\n",
    "print(matrix(graph.get_adjacency_matrix()))"
   ]
  }
 ],
 "metadata": {
  "kernelspec": {
   "display_name": "Python 3.8.13 64-bit ('3.8.13')",
   "language": "python",
   "name": "python3"
  },
  "language_info": {
   "codemirror_mode": {
    "name": "ipython",
    "version": 3
   },
   "file_extension": ".py",
   "mimetype": "text/x-python",
   "name": "python",
   "nbconvert_exporter": "python",
   "pygments_lexer": "ipython3",
   "version": "3.8.13"
  },
  "orig_nbformat": 4,
  "vscode": {
   "interpreter": {
    "hash": "110cc1dee26208153f2972f08a2ad52b6a56238dc66d48e87fb757ef2996db56"
   }
  }
 },
 "nbformat": 4,
 "nbformat_minor": 2
}
