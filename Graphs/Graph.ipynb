{
 "cells": [
  {
   "cell_type": "code",
   "execution_count": 1,
   "metadata": {},
   "outputs": [
    {
     "name": "stdout",
     "output_type": "stream",
     "text": [
      "Requirement already satisfied: numpy in c:\\users\\yassi\\appdata\\local\\packages\\pythonsoftwarefoundation.python.3.10_qbz5n2kfra8p0\\localcache\\local-packages\\python310\\site-packages (1.22.3)\n"
     ]
    },
    {
     "name": "stderr",
     "output_type": "stream",
     "text": [
      "WARNING: You are using pip version 22.0.3; however, version 22.1 is available.\n",
      "You should consider upgrading via the 'C:\\Users\\yassi\\AppData\\Local\\Microsoft\\WindowsApps\\PythonSoftwareFoundation.Python.3.10_qbz5n2kfra8p0\\python.exe -m pip install --upgrade pip' command.\n"
     ]
    }
   ],
   "source": [
    "!pip install numpy"
   ]
  },
  {
   "cell_type": "code",
   "execution_count": 2,
   "metadata": {},
   "outputs": [],
   "source": [
    "from numpy import matrix\n",
    "from typing import List, Tuple"
   ]
  },
  {
   "cell_type": "code",
   "execution_count": 3,
   "metadata": {},
   "outputs": [],
   "source": [
    "class Edge:\n",
    "    def __init__(self, origin, target, weight):\n",
    "        self.origin = origin\n",
    "        self.target = target\n",
    "        self.weight = weight\n",
    "    \n",
    "    def __repr__(self):\n",
    "        return f\"Edge(origin={self.origin}, target={self.target}, weight={self.weight})\""
   ]
  },
  {
   "cell_type": "code",
   "execution_count": 4,
   "metadata": {},
   "outputs": [],
   "source": [
    "class Vertex:\n",
    "    def __init__(self, name: str, next: List[Edge] = None):\n",
    "        self.name = name\n",
    "        self.next = next if next else []\n",
    "\n",
    "    def __repr__(self):\n",
    "        return f\"Vertex(name={self.name}, next={self.next})\""
   ]
  },
  {
   "cell_type": "code",
   "execution_count": 5,
   "metadata": {},
   "outputs": [],
   "source": [
    "class Graph:\n",
    "    def __init__(self, vertices: List[Vertex] = None):\n",
    "        self.vertices = vertices if vertices else []\n",
    "\n",
    "    def add_vertex(self, vertex: Vertex):\n",
    "        self.vertices.append(vertex)\n",
    "\n",
    "    def add_vertices(self, vertices: List[Vertex]):\n",
    "        for vertex in vertices:\n",
    "            self.add_vertex(vertex)\n",
    "\n",
    "    def get_vertex(self, data: str):\n",
    "        for vertex in self.vertices:\n",
    "            if vertex.data == data:\n",
    "                return vertex\n",
    "        return\n",
    "\n",
    "    def add_edge(self, edge: Tuple[str, str, int]):\n",
    "        self.get_vertex(edge[0]).next.append(Edge(*edge))\n",
    "\n",
    "    def add_edges(self, edges: List[Tuple[str, str, int]]):\n",
    "        for edge in edges:\n",
    "            self.add_edge(edge)\n",
    "\n",
    "    def get_adjacency_list(self):\n",
    "        adjacency_list = {}\n",
    "        for vertex in self.vertices:\n",
    "            adjacency_list[vertex.data] = [(edge.target,edge.weight) for edge in vertex.next]\n",
    "        return adjacency_list\n",
    "\n",
    "    def get_adjacency_matrix(self):\n",
    "        adjacency_matrix = []\n",
    "        for vertex in self.vertices:\n",
    "            adjacency_matrix.append([0] * len(self.vertices))\n",
    "        for i, vertex in enumerate(self.vertices):\n",
    "            for edge in vertex.next:\n",
    "                adjacency_matrix[i][self.vertices.index(self.get_vertex(edge.target))] = edge.weight\n",
    "        return adjacency_matrix\n",
    "\n",
    "    def __repr__(self):\n",
    "        return f\"Graph(vertices={self.vertices})\""
   ]
  },
  {
   "cell_type": "code",
   "execution_count": 6,
   "metadata": {},
   "outputs": [
    {
     "name": "stdout",
     "output_type": "stream",
     "text": [
      "{'A': [('B', 1), ('C', 1)], 'B': [('C', 1), ('D', 1)], 'C': [('D', 1)], 'D': [('E', 1)], 'E': []}\n",
      "\n",
      "[[0 1 1 0 0]\n",
      " [0 0 1 1 0]\n",
      " [0 0 0 1 0]\n",
      " [0 0 0 0 1]\n",
      " [0 0 0 0 0]]\n"
     ]
    }
   ],
   "source": [
    "graph = Graph()\n",
    "\n",
    "graph.add_vertices([Vertex('A'), Vertex('B'), Vertex('C'), Vertex('D'), Vertex('E')])\n",
    "graph.add_edges([('A', 'B', 1), ('A', 'C', 1), ('B', 'C', 1), ('B', 'D', 1), ('C', 'D', 1), ('D', 'E', 1)])\n",
    "\n",
    "print(graph.get_adjacency_list())\n",
    "print()\n",
    "print(matrix(graph.get_adjacency_matrix()))"
   ]
  }
 ],
 "metadata": {
  "interpreter": {
   "hash": "7e199ba1cb85acf5efbb82064dcf0c255ecc05bc1fd3896190b852e4083b2abb"
  },
  "kernelspec": {
   "display_name": "Python 3.10.4 64-bit (windows store)",
   "language": "python",
   "name": "python3"
  },
  "language_info": {
   "codemirror_mode": {
    "name": "ipython",
    "version": 3
   },
   "file_extension": ".py",
   "mimetype": "text/x-python",
   "name": "python",
   "nbconvert_exporter": "python",
   "pygments_lexer": "ipython3",
   "version": "3.10.4"
  },
  "orig_nbformat": 4
 },
 "nbformat": 4,
 "nbformat_minor": 2
}
