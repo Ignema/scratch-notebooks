{
 "cells": [
  {
   "cell_type": "code",
   "execution_count": 9,
   "metadata": {},
   "outputs": [
    {
     "name": "stdout",
     "output_type": "stream",
     "text": [
      "Collecting numpy\n",
      "  Downloading numpy-1.22.3-cp310-cp310-win_amd64.whl (14.7 MB)\n",
      "     -------------------------------------- 14.7/14.7 MB 942.1 kB/s eta 0:00:00\n",
      "Installing collected packages: numpy\n",
      "Successfully installed numpy-1.22.3\n"
     ]
    },
    {
     "name": "stderr",
     "output_type": "stream",
     "text": [
      "WARNING: You are using pip version 22.0.3; however, version 22.1 is available.\n",
      "You should consider upgrading via the 'C:\\Users\\yassi\\AppData\\Local\\Microsoft\\WindowsApps\\PythonSoftwareFoundation.Python.3.10_qbz5n2kfra8p0\\python.exe -m pip install --upgrade pip' command.\n"
     ]
    }
   ],
   "source": [
    "!pip install numpy"
   ]
  },
  {
   "cell_type": "code",
   "execution_count": 10,
   "metadata": {},
   "outputs": [],
   "source": [
    "from numpy import matrix\n",
    "from typing import List"
   ]
  },
  {
   "cell_type": "code",
   "execution_count": 2,
   "metadata": {},
   "outputs": [],
   "source": [
    "class Edge:\n",
    "    def __init__(self, target, weight):\n",
    "        self.target = target\n",
    "        self.weight = weight\n",
    "    \n",
    "    def __repr__(self):\n",
    "        return f\"Edge(target={self.target}, weight={self.weight})\""
   ]
  },
  {
   "cell_type": "code",
   "execution_count": 3,
   "metadata": {},
   "outputs": [],
   "source": [
    "class Vertex:\n",
    "    def __init__(self, data: str, next: List[Edge] = None):\n",
    "        self.data = data\n",
    "        self.next = next if next else []\n",
    "\n",
    "    def add_edge(self, target: str, weight: int):\n",
    "        self.next.append(Edge(target, weight))\n",
    "\n",
    "    def __repr__(self):\n",
    "        return f\"Vertex(data={self.data}, next={self.next})\""
   ]
  },
  {
   "cell_type": "code",
   "execution_count": 6,
   "metadata": {},
   "outputs": [],
   "source": [
    "class Graph:\n",
    "    def __init__(self, vertices: List[Vertex] = None):\n",
    "        self.vertices = vertices if vertices else []\n",
    "\n",
    "    def add_vertex(self, vertex: Vertex):\n",
    "        self.vertices.append(vertex)\n",
    "\n",
    "    def get_vertex(self, data: str):\n",
    "        for vertex in self.vertices:\n",
    "            if vertex.data == data:\n",
    "                return vertex\n",
    "        return\n",
    "\n",
    "    def add_edge(self, source: str, target: str, weight: int):\n",
    "        self.get_vertex(source).add_edge(target, weight)\n",
    "\n",
    "    def get_adjacency_list(self):\n",
    "        adjacency_list = {}\n",
    "        for vertex in self.vertices:\n",
    "            adjacency_list[vertex.data] = [(edge.target,edge.weight) for edge in vertex.next]\n",
    "        return adjacency_list\n",
    "\n",
    "    def get_adjacency_matrix(self):\n",
    "        adjacency_matrix = []\n",
    "        for vertex in self.vertices:\n",
    "            adjacency_matrix.append([0] * len(self.vertices))\n",
    "        for i, vertex in enumerate(self.vertices):\n",
    "            for edge in vertex.next:\n",
    "                adjacency_matrix[i][self.vertices.index(self.get_vertex(edge.target))] = edge.weight\n",
    "        return adjacency_matrix\n",
    "\n",
    "    def __repr__(self):\n",
    "        return f\"Graph(vertices={self.vertices})\""
   ]
  },
  {
   "cell_type": "code",
   "execution_count": 12,
   "metadata": {},
   "outputs": [
    {
     "name": "stdout",
     "output_type": "stream",
     "text": [
      "{'A': [('B', 1)], 'B': [('A', 2), ('C', 1)], 'C': [], 'D': [], 'E': []}\n",
      "\n",
      "[[0 1 0 0 0]\n",
      " [2 0 1 0 0]\n",
      " [0 0 0 0 0]\n",
      " [0 0 0 0 0]\n",
      " [0 0 0 0 0]]\n"
     ]
    }
   ],
   "source": [
    "graph = Graph()\n",
    "\n",
    "vertices = [Vertex('A'), Vertex('B'), Vertex('C'), Vertex('D'), Vertex('E')]\n",
    "\n",
    "for vertex in vertices:\n",
    "    graph.add_vertex(vertex)\n",
    "\n",
    "graph.add_edge('A', 'B', 1)\n",
    "graph.add_edge('B', 'A', 2)\n",
    "graph.add_edge('B', 'C', 1)\n",
    "\n",
    "print(graph.get_adjacency_list())\n",
    "print()\n",
    "print(matrix(graph.get_adjacency_matrix()))"
   ]
  }
 ],
 "metadata": {
  "interpreter": {
   "hash": "7e199ba1cb85acf5efbb82064dcf0c255ecc05bc1fd3896190b852e4083b2abb"
  },
  "kernelspec": {
   "display_name": "Python 3.10.4 64-bit (windows store)",
   "language": "python",
   "name": "python3"
  },
  "language_info": {
   "codemirror_mode": {
    "name": "ipython",
    "version": 3
   },
   "file_extension": ".py",
   "mimetype": "text/x-python",
   "name": "python",
   "nbconvert_exporter": "python",
   "pygments_lexer": "ipython3",
   "version": "3.10.4"
  },
  "orig_nbformat": 4
 },
 "nbformat": 4,
 "nbformat_minor": 2
}
