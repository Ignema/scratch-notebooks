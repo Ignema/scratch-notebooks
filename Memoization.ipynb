{
  "cells": [
    {
      "cell_type": "code",
      "execution_count": 1,
      "metadata": {
        "id": "9KQED5d3pD0u"
      },
      "outputs": [],
      "source": [
        "memo_cache = {}\n",
        "\n",
        "def memoize(f):\n",
        "  def wrapper(*args, **kwargs):\n",
        "    if f in memo_cache.keys() and args in [memo_f[\"args\"] for memo_f in memo_cache[f]] and kwargs in [memo_f[\"kwargs\"] for memo_f in memo_cache[f]]:\n",
        "      return [memo_f[\"output\"] for memo_f in memo_cache[f] if memo_f[\"args\"] == args and memo_f[\"kwargs\"] == kwargs][0]\n",
        "    else:\n",
        "      output = f(*args, **kwargs)\n",
        "      memo_cache[f] = [{\"args\": args, \"kwargs\": kwargs, \"output\": output}]\n",
        "      return output\n",
        "  return wrapper  "
      ]
    },
    {
      "cell_type": "code",
      "execution_count": 2,
      "metadata": {
        "id": "atWWqlUAvCaJ"
      },
      "outputs": [],
      "source": [
        "from time import time\n",
        "\n",
        "def benchmark(f, *args, **kwargs):\n",
        "  start = time()\n",
        "  out = f(*args, **kwargs)\n",
        "  end = time()\n",
        "  print(\"Executed function with return value:\", out)\n",
        "  print(\"Elapsed time:\", end - start, \"seconds.\")\n"
      ]
    },
    {
      "cell_type": "code",
      "execution_count": 3,
      "metadata": {
        "id": "IlTcdYoYI9Cu"
      },
      "outputs": [],
      "source": [
        "from time import sleep\n",
        "\n",
        "def test_function_1(seconds):\n",
        "  sleep(seconds)\n",
        "  return 1\n",
        "    \n",
        "@memoize\n",
        "def test_function_2(seconds):\n",
        "  sleep(seconds)\n",
        "  return 2"
      ]
    },
    {
      "cell_type": "code",
      "execution_count": 4,
      "metadata": {
        "colab": {
          "base_uri": "https://localhost:8080/"
        },
        "id": "5utkoY-jQd_w",
        "outputId": "96d4e6a3-1723-45c7-a0f2-d16738204d07"
      },
      "outputs": [
        {
          "name": "stdout",
          "output_type": "stream",
          "text": [
            "Executed function with return value: 1\n",
            "Elapsed time: 3.000296115875244 seconds.\n",
            "Executed function with return value: 1\n",
            "Elapsed time: 3.0084238052368164 seconds.\n",
            "Executed function with return value: 1\n",
            "Elapsed time: 3.0027503967285156 seconds.\n"
          ]
        }
      ],
      "source": [
        "benchmark(test_function_1, 3)\n",
        "benchmark(test_function_1, 3)\n",
        "benchmark(test_function_1, 3)"
      ]
    },
    {
      "cell_type": "code",
      "execution_count": 5,
      "metadata": {
        "colab": {
          "base_uri": "https://localhost:8080/"
        },
        "id": "xHw-MaO-Riod",
        "outputId": "31a028fb-86ea-4b95-a24a-ae9380fc3872"
      },
      "outputs": [
        {
          "name": "stdout",
          "output_type": "stream",
          "text": [
            "Executed function with return value: 2\n",
            "Elapsed time: 3.0114026069641113 seconds.\n",
            "Executed function with return value: 2\n",
            "Elapsed time: 0.0 seconds.\n",
            "Executed function with return value: 2\n",
            "Elapsed time: 0.0 seconds.\n"
          ]
        }
      ],
      "source": [
        "benchmark(test_function_2, 3)\n",
        "benchmark(test_function_2, 3)\n",
        "benchmark(test_function_2, 3)"
      ]
    }
  ],
  "metadata": {
    "colab": {
      "collapsed_sections": [],
      "name": "Memoization.ipynb",
      "provenance": []
    },
    "interpreter": {
      "hash": "7e199ba1cb85acf5efbb82064dcf0c255ecc05bc1fd3896190b852e4083b2abb"
    },
    "kernelspec": {
      "display_name": "Python 3.10.4 64-bit (windows store)",
      "language": "python",
      "name": "python3"
    },
    "language_info": {
      "codemirror_mode": {
        "name": "ipython",
        "version": 3
      },
      "file_extension": ".py",
      "mimetype": "text/x-python",
      "name": "python",
      "nbconvert_exporter": "python",
      "pygments_lexer": "ipython3",
      "version": "3.10.4"
    }
  },
  "nbformat": 4,
  "nbformat_minor": 0
}
